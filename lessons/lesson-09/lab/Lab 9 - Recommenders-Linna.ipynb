{
 "cells": [
  {
   "cell_type": "markdown",
   "metadata": {},
   "source": [
    "# Lab 9 - Recommendation Engines\n",
    "\n",
    "### MovieLens Data\n",
    "\n",
    "MovieLens data sets were collected by the GroupLens Research Project at the University of Minnesota.\n",
    "\n",
    "This data set consists of: * 100,000 ratings (1-5) from 943 users on 1682 movies. * Each user has rated at least 20 movies. * Simple demographic info for the users (age, gender, occupation, zip)\n",
    "\n",
    "The data was collected through the MovieLens web site (movielens.umn.edu) during the seven-month period from September 19th, 1997 through April 22nd, 1998. This data has been cleaned up - users who had less than 20 ratings or did not have complete demographic information were removed from this data set. Detailed descriptions of the data file can be found at the end of this file.\n",
    "\n",
    "### Tasks\n",
    "\n",
    "1. Load the data into the recommender format\n",
    "2. Build and assess model accuracy\n",
    "3. Make individual recommendations\n",
    "4. Try multiple models and compare accuracy\n",
    "5. Consider how a company could use this"
   ]
  },
  {
   "cell_type": "code",
   "execution_count": 1,
   "metadata": {},
   "outputs": [],
   "source": [
    "# Load Surprise\n",
    "from surprise import SVD\n",
    "from surprise import Dataset\n",
    "from surprise import evaluate, print_perf, model_selection\n",
    "from surprise import Reader\n",
    "from surprise import accuracy\n",
    "\n",
    "# Load others\n",
    "import pandas as pd\n",
    "import numpy as np\n",
    "import matplotlib.pyplot as plt\n",
    "%matplotlib inline"
   ]
  },
  {
   "cell_type": "code",
   "execution_count": 2,
   "metadata": {},
   "outputs": [
    {
     "data": {
      "text/html": [
       "<div>\n",
       "<style scoped>\n",
       "    .dataframe tbody tr th:only-of-type {\n",
       "        vertical-align: middle;\n",
       "    }\n",
       "\n",
       "    .dataframe tbody tr th {\n",
       "        vertical-align: top;\n",
       "    }\n",
       "\n",
       "    .dataframe thead th {\n",
       "        text-align: right;\n",
       "    }\n",
       "</style>\n",
       "<table border=\"1\" class=\"dataframe\">\n",
       "  <thead>\n",
       "    <tr style=\"text-align: right;\">\n",
       "      <th></th>\n",
       "      <th>user</th>\n",
       "      <th>age</th>\n",
       "      <th>sex</th>\n",
       "      <th>occupation</th>\n",
       "      <th>zipcode</th>\n",
       "    </tr>\n",
       "  </thead>\n",
       "  <tbody>\n",
       "    <tr>\n",
       "      <th>count</th>\n",
       "      <td>943</td>\n",
       "      <td>943.000000</td>\n",
       "      <td>943</td>\n",
       "      <td>943</td>\n",
       "      <td>943</td>\n",
       "    </tr>\n",
       "    <tr>\n",
       "      <th>unique</th>\n",
       "      <td>943</td>\n",
       "      <td>NaN</td>\n",
       "      <td>2</td>\n",
       "      <td>21</td>\n",
       "      <td>795</td>\n",
       "    </tr>\n",
       "    <tr>\n",
       "      <th>top</th>\n",
       "      <td>184</td>\n",
       "      <td>NaN</td>\n",
       "      <td>M</td>\n",
       "      <td>student</td>\n",
       "      <td>55414</td>\n",
       "    </tr>\n",
       "    <tr>\n",
       "      <th>freq</th>\n",
       "      <td>1</td>\n",
       "      <td>NaN</td>\n",
       "      <td>670</td>\n",
       "      <td>196</td>\n",
       "      <td>9</td>\n",
       "    </tr>\n",
       "    <tr>\n",
       "      <th>mean</th>\n",
       "      <td>NaN</td>\n",
       "      <td>34.051962</td>\n",
       "      <td>NaN</td>\n",
       "      <td>NaN</td>\n",
       "      <td>NaN</td>\n",
       "    </tr>\n",
       "    <tr>\n",
       "      <th>std</th>\n",
       "      <td>NaN</td>\n",
       "      <td>12.192740</td>\n",
       "      <td>NaN</td>\n",
       "      <td>NaN</td>\n",
       "      <td>NaN</td>\n",
       "    </tr>\n",
       "    <tr>\n",
       "      <th>min</th>\n",
       "      <td>NaN</td>\n",
       "      <td>7.000000</td>\n",
       "      <td>NaN</td>\n",
       "      <td>NaN</td>\n",
       "      <td>NaN</td>\n",
       "    </tr>\n",
       "    <tr>\n",
       "      <th>25%</th>\n",
       "      <td>NaN</td>\n",
       "      <td>25.000000</td>\n",
       "      <td>NaN</td>\n",
       "      <td>NaN</td>\n",
       "      <td>NaN</td>\n",
       "    </tr>\n",
       "    <tr>\n",
       "      <th>50%</th>\n",
       "      <td>NaN</td>\n",
       "      <td>31.000000</td>\n",
       "      <td>NaN</td>\n",
       "      <td>NaN</td>\n",
       "      <td>NaN</td>\n",
       "    </tr>\n",
       "    <tr>\n",
       "      <th>75%</th>\n",
       "      <td>NaN</td>\n",
       "      <td>43.000000</td>\n",
       "      <td>NaN</td>\n",
       "      <td>NaN</td>\n",
       "      <td>NaN</td>\n",
       "    </tr>\n",
       "    <tr>\n",
       "      <th>max</th>\n",
       "      <td>NaN</td>\n",
       "      <td>73.000000</td>\n",
       "      <td>NaN</td>\n",
       "      <td>NaN</td>\n",
       "      <td>NaN</td>\n",
       "    </tr>\n",
       "  </tbody>\n",
       "</table>\n",
       "</div>"
      ],
      "text/plain": [
       "       user         age  sex occupation zipcode\n",
       "count   943  943.000000  943        943     943\n",
       "unique  943         NaN    2         21     795\n",
       "top     184         NaN    M    student   55414\n",
       "freq      1         NaN  670        196       9\n",
       "mean    NaN   34.051962  NaN        NaN     NaN\n",
       "std     NaN   12.192740  NaN        NaN     NaN\n",
       "min     NaN    7.000000  NaN        NaN     NaN\n",
       "25%     NaN   25.000000  NaN        NaN     NaN\n",
       "50%     NaN   31.000000  NaN        NaN     NaN\n",
       "75%     NaN   43.000000  NaN        NaN     NaN\n",
       "max     NaN   73.000000  NaN        NaN     NaN"
      ]
     },
     "execution_count": 2,
     "metadata": {},
     "output_type": "execute_result"
    }
   ],
   "source": [
    "# Exploratory data analysis\n",
    "\n",
    "# users:\n",
    "colnames = ['user', 'age', 'sex', 'occupation', 'zipcode']  #: guesses\n",
    "users = pd.read_csv('../../../data/u.user', sep = '|', header = None, names = colnames)\n",
    "users['user'] = users['user'].astype(str)\n",
    "users['zipcode'] = users['zipcode'].astype(str)\n",
    "users.describe(include='all')"
   ]
  },
  {
   "cell_type": "code",
   "execution_count": 3,
   "metadata": {},
   "outputs": [
    {
     "data": {
      "text/html": [
       "<div>\n",
       "<style scoped>\n",
       "    .dataframe tbody tr th:only-of-type {\n",
       "        vertical-align: middle;\n",
       "    }\n",
       "\n",
       "    .dataframe tbody tr th {\n",
       "        vertical-align: top;\n",
       "    }\n",
       "\n",
       "    .dataframe thead th {\n",
       "        text-align: right;\n",
       "    }\n",
       "</style>\n",
       "<table border=\"1\" class=\"dataframe\">\n",
       "  <thead>\n",
       "    <tr style=\"text-align: right;\">\n",
       "      <th></th>\n",
       "      <th>user</th>\n",
       "      <th>item</th>\n",
       "      <th>rating</th>\n",
       "      <th>timestamp</th>\n",
       "    </tr>\n",
       "  </thead>\n",
       "  <tbody>\n",
       "    <tr>\n",
       "      <th>count</th>\n",
       "      <td>100000.00000</td>\n",
       "      <td>100000.000000</td>\n",
       "      <td>100000.000000</td>\n",
       "      <td>1.000000e+05</td>\n",
       "    </tr>\n",
       "    <tr>\n",
       "      <th>mean</th>\n",
       "      <td>462.48475</td>\n",
       "      <td>425.530130</td>\n",
       "      <td>3.529860</td>\n",
       "      <td>8.835289e+08</td>\n",
       "    </tr>\n",
       "    <tr>\n",
       "      <th>std</th>\n",
       "      <td>266.61442</td>\n",
       "      <td>330.798356</td>\n",
       "      <td>1.125674</td>\n",
       "      <td>5.343856e+06</td>\n",
       "    </tr>\n",
       "    <tr>\n",
       "      <th>min</th>\n",
       "      <td>1.00000</td>\n",
       "      <td>1.000000</td>\n",
       "      <td>1.000000</td>\n",
       "      <td>8.747247e+08</td>\n",
       "    </tr>\n",
       "    <tr>\n",
       "      <th>25%</th>\n",
       "      <td>254.00000</td>\n",
       "      <td>175.000000</td>\n",
       "      <td>3.000000</td>\n",
       "      <td>8.794487e+08</td>\n",
       "    </tr>\n",
       "    <tr>\n",
       "      <th>50%</th>\n",
       "      <td>447.00000</td>\n",
       "      <td>322.000000</td>\n",
       "      <td>4.000000</td>\n",
       "      <td>8.828269e+08</td>\n",
       "    </tr>\n",
       "    <tr>\n",
       "      <th>75%</th>\n",
       "      <td>682.00000</td>\n",
       "      <td>631.000000</td>\n",
       "      <td>4.000000</td>\n",
       "      <td>8.882600e+08</td>\n",
       "    </tr>\n",
       "    <tr>\n",
       "      <th>max</th>\n",
       "      <td>943.00000</td>\n",
       "      <td>1682.000000</td>\n",
       "      <td>5.000000</td>\n",
       "      <td>8.932866e+08</td>\n",
       "    </tr>\n",
       "  </tbody>\n",
       "</table>\n",
       "</div>"
      ],
      "text/plain": [
       "               user           item         rating     timestamp\n",
       "count  100000.00000  100000.000000  100000.000000  1.000000e+05\n",
       "mean      462.48475     425.530130       3.529860  8.835289e+08\n",
       "std       266.61442     330.798356       1.125674  5.343856e+06\n",
       "min         1.00000       1.000000       1.000000  8.747247e+08\n",
       "25%       254.00000     175.000000       3.000000  8.794487e+08\n",
       "50%       447.00000     322.000000       4.000000  8.828269e+08\n",
       "75%       682.00000     631.000000       4.000000  8.882600e+08\n",
       "max       943.00000    1682.000000       5.000000  8.932866e+08"
      ]
     },
     "execution_count": 3,
     "metadata": {},
     "output_type": "execute_result"
    }
   ],
   "source": [
    "# Exploratory data analysis\n",
    "\n",
    "# items:\n",
    "lineformat = 'user item rating timestamp' #: used by Reader class (below)\n",
    "colnames = lineformat.split(' ')\n",
    "items = pd.read_csv('../../../data/u.data', sep = '\\t', header = None, names = colnames)\n",
    "items.describe(include='all')"
   ]
  },
  {
   "cell_type": "markdown",
   "metadata": {},
   "source": [
    "**Task: Plot a histogram of the ratings. Is it skewed? What is the implication?**"
   ]
  },
  {
   "cell_type": "code",
   "execution_count": 4,
   "metadata": {},
   "outputs": [
    {
     "data": {
      "text/plain": [
       "array([[<matplotlib.axes._subplots.AxesSubplot object at 0x10931bda0>]],\n",
       "      dtype=object)"
      ]
     },
     "execution_count": 4,
     "metadata": {},
     "output_type": "execute_result"
    },
    {
     "data": {
      "image/png": "[encoded data removed]",
      "text/plain": [
       "<matplotlib.figure.Figure at 0x105a885c0>"
      ]
     },
     "metadata": {},
     "output_type": "display_data"
    }
   ],
   "source": [
    "items[['rating']].hist(bins=5)"
   ]
  },
  {
   "cell_type": "markdown",
   "metadata": {},
   "source": [
    "**Task: How many ratings did a typical user provide?**"
   ]
  },
  {
   "cell_type": "code",
   "execution_count": 5,
   "metadata": {},
   "outputs": [
    {
     "name": "stdout",
     "output_type": "stream",
     "text": [
      "Median number of ratings per user = 65.0\n"
     ]
    },
    {
     "data": {
      "text/plain": [
       "<matplotlib.axes._subplots.AxesSubplot at 0x105a88be0>"
      ]
     },
     "execution_count": 5,
     "metadata": {},
     "output_type": "execute_result"
    },
    {
     "data": {
      "image/png": "[encoded data removed]",
      "text/plain": [
       "<matplotlib.figure.Figure at 0x108134e80>"
      ]
     },
     "metadata": {},
     "output_type": "display_data"
    }
   ],
   "source": [
    "byuser = items.groupby('user').agg({'item': len})\n",
    "# or:\n",
    "byuser = items.groupby('user').item.nunique()  # creates a 1D series\n",
    "print(\"Median number of ratings per user = {}\".format(byuser.median()))\n",
    "byuser.hist(bins=30)"
   ]
  },
  {
   "cell_type": "code",
   "execution_count": 6,
   "metadata": {},
   "outputs": [],
   "source": [
    "# 1. Load the data into the recommendation format\n",
    "\n",
    "# Nb. The object that will be produced for training the recommender is not a data frame\n",
    "# and doesn't have a head() method\n",
    "# (which is why we used read_csv() above so that we could look at the raw data).\n",
    "#\n",
    "# load the dataset from the library that contains the recommender algo,\n",
    "# using its Dataset.load_from_file method and Reader class:\n",
    "reader = Reader(line_format = lineformat, sep = '\\t')\n",
    "#data = Dataset.load_from_file(file_path = '../../data/u.data', reader=reader)\n",
    "data = Dataset.load_from_file(file_path = '../../../data/u.data', reader=reader)\n"
   ]
  },
  {
   "cell_type": "code",
   "execution_count": 7,
   "metadata": {},
   "outputs": [],
   "source": [
    "?SVD"
   ]
  },
  {
   "cell_type": "code",
   "execution_count": 8,
   "metadata": {},
   "outputs": [
    {
     "name": "stdout",
     "output_type": "stream",
     "text": [
      "Evaluating RMSE, MAE of algorithm SVD on 5 split(s).\n",
      "\n",
      "                  Fold 1  Fold 2  Fold 3  Fold 4  Fold 5  Mean    Std     \n",
      "RMSE (testset)    0.9426  0.9316  0.9402  0.9304  0.9287  0.9347  0.0056  \n",
      "MAE (testset)     0.7439  0.7353  0.7420  0.7318  0.7311  0.7368  0.0052  \n",
      "Fit time          4.87    4.63    4.67    4.65    4.57    4.68    0.10    \n",
      "Test time         0.13    0.15    0.11    0.10    0.10    0.12    0.02    \n"
     ]
    }
   ],
   "source": [
    "# 2. Build and assess model accuracy\n",
    "\n",
    "train_set, test_set = model_selection.train_test_split(data, test_size=.25)\n",
    "\n",
    "# We'll use the famous SVD algorithm:\n",
    "algo = SVD()\n",
    "\n",
    "# Evaluate performances of our algorithm on the dataset:\n",
    "perf = model_selection.cross_validate(algo, data, measures=['RMSE', 'MAE'], cv=5, verbose=True)"
   ]
  },
  {
   "cell_type": "code",
   "execution_count": 9,
   "metadata": {},
   "outputs": [
    {
     "data": {
      "text/plain": [
       "<surprise.prediction_algorithms.matrix_factorization.SVD at 0x1154e9be0>"
      ]
     },
     "execution_count": 9,
     "metadata": {},
     "output_type": "execute_result"
    }
   ],
   "source": [
    "algo.fit(train_set)"
   ]
  },
  {
   "cell_type": "code",
   "execution_count": 10,
   "metadata": {},
   "outputs": [
    {
     "name": "stdout",
     "output_type": "stream",
     "text": [
      "RMSE: 0.9359\n"
     ]
    },
    {
     "data": {
      "text/plain": [
       "0.9359328535781984"
      ]
     },
     "execution_count": 10,
     "metadata": {},
     "output_type": "execute_result"
    }
   ],
   "source": [
    "predictions = algo.test(test_set)\n",
    "\n",
    "# Then compute RMSE\n",
    "accuracy.rmse(predictions)"
   ]
  },
  {
   "cell_type": "code",
   "execution_count": 11,
   "metadata": {},
   "outputs": [
    {
     "name": "stdout",
     "output_type": "stream",
     "text": [
      "user: 196        item: 302        r_ui = 2.00   est = 3.79   {'was_impossible': False}\n"
     ]
    }
   ],
   "source": [
    "# 3. Make individual recommendations\n",
    "\n",
    "puid = str(196)  # raw user id (as in the ratings file)\n",
    "piid = str(302)  # raw item id (as in the ratings file)\n",
    "\n",
    "# get a prediction for specific users and items:\n",
    "pred = algo.predict(puid, piid, r_ui=2, verbose=True)"
   ]
  },
  {
   "cell_type": "code",
   "execution_count": 12,
   "metadata": {},
   "outputs": [
    {
     "name": "stdout",
     "output_type": "stream",
     "text": [
      "      user  item  rating  timestamp\n",
      "299    302   322       2  879436875\n",
      "318    302   303       2  879436785\n",
      "2593   302   323       2  879436875\n",
      "2858   302   245       2  879436911\n",
      "3967   302   309       2  879436820\n",
      "4826   302   328       3  879436844\n",
      "9848   302   307       4  879436739\n",
      "10387  302   879       2  879436960\n",
      "10611  302   270       2  879436785\n",
      "14758  302   258       3  879436739\n",
      "15594  302   299       2  879436932\n",
      "32327  302   301       4  879436820\n",
      "32747  302   680       2  879437035\n",
      "33530  302   988       2  879436875\n",
      "43238  302   748       1  879436739\n",
      "50283  302   294       1  879436911\n",
      "55280  302   358       3  879436981\n",
      "58767  302   289       3  879436874\n",
      "81824  302   271       4  879436911\n",
      "84234  302   333       3  879436785\n",
      "87380  302   266       2  879436981\n"
     ]
    }
   ],
   "source": [
    "# We can look up the movie that we just tested by its index:\n",
    "#colnames = ['user', 'name']\n",
    "#items = pd.read_csv('u.item', sep = '|', header = None, names = colnames, usecols = [0, 1])\n",
    "#print(items.iloc[0])\n",
    "items['user'] = items['user'].astype(str)\n",
    "print(items[items.user == piid])"
   ]
  },
  {
   "cell_type": "code",
   "execution_count": 13,
   "metadata": {},
   "outputs": [
    {
     "name": "stdout",
     "output_type": "stream",
     "text": [
      "        Fold 1  Fold 2  Fold 3  Fold 4  Fold 5  Mean    \n",
      "TEST_RMSE0.9621  0.9598  0.9598  0.9591  0.9586  0.9599  \n",
      "TEST_MAE0.7574  0.7555  0.7519  0.7553  0.7516  0.7543  \n",
      "FIT_TIME4.5512  4.6609  4.4583  4.4810  4.3347  4.4973  \n",
      "TEST_TIME0.1192  0.1029  0.0961  0.0887  0.0875  0.0989  \n"
     ]
    }
   ],
   "source": [
    "# 4. Try multiple models and compare accuracy\n",
    "\n",
    "# Try at least 3 of the models mentioned below:\n",
    "# random_pred.NormalPredictor    Algorithm predicting a random rating based on the distribution of the training set, which is assumed to be normal.\n",
    "# baseline_only.BaselineOnly    Algorithm predicting the baseline estimate for given user and item.\n",
    "# knns.KNNBasic    A basic collaborative filtering algorithm.\n",
    "# knns.KNNWithMeans    A basic collaborative filtering algorithm, taking into account the mean ratings of each user.\n",
    "# knns.KNNBaseline    A basic collaborative filtering algorithm taking into account a baseline rating.\n",
    "# matrix_factorization.SVD    The famous SVD algorithm, as popularized by Simon Funk during the Netflix Prize.\n",
    "# matrix_factorization.SVDpp    The SVD++ algorithm, an extension of SVD taking into account implicit ratings.\n",
    "# matrix_factorization.NMF    A collaborative filtering algorithm based on Non-negative Matrix Factorization.\n",
    "# slope_one.SlopeOne    A simple yet accurate collaborative filtering algorithm.\n",
    "# co_clustering.CoClustering    A collaborative filtering algorithm based on co-clustering.\n",
    "\n",
    "\n",
    "# Here's how to run Non-Negative Matrix Factorisiation\n",
    "from surprise import NMF\n",
    "\n",
    "algo = NMF()\n",
    "perf= model_selection.cross_validate(algo, data, measures=['RMSE', 'MAE'])\n",
    "print_perf(perf)"
   ]
  },
  {
   "cell_type": "markdown",
   "metadata": {},
   "source": [
    "##### 5. Consider how a company could use this\n",
    "\n",
    "How might a company use a recommendation like this in practice? Write a few paragraphs covering how they could use the above covering:\n",
    "- How the algorithm works?\n",
    "- What data would be used?\n",
    "- How would we know if it's working?\n",
    "- What is the benefit of using an algorithm over this over just recommending the most popular films overall?"
   ]
  }
 ],
 "metadata": {
  "anaconda-cloud": {},
  "kernelspec": {
   "display_name": "Python 3",
   "language": "python",
   "name": "python3"
  },
  "language_info": {
   "codemirror_mode": {
    "name": "ipython",
    "version": 3
   },
   "file_extension": ".py",
   "mimetype": "text/x-python",
   "name": "python",
   "nbconvert_exporter": "python",
   "pygments_lexer": "ipython3",
   "version": "3.6.4"
  }
 },
 "nbformat": 4,
 "nbformat_minor": 1
}
